{
  "nbformat": 4,
  "nbformat_minor": 0,
  "metadata": {
    "colab": {
      "private_outputs": true,
      "provenance": [],
      "toc_visible": true
    },
    "kernelspec": {
      "name": "python3",
      "display_name": "Python 3"
    },
    "language_info": {
      "name": "python"
    }
  },
  "cells": [
    {
      "cell_type": "code",
      "execution_count": null,
      "metadata": {
        "id": "jm0G6x4JxGt5"
      },
      "outputs": [],
      "source": [
        "fish_length = 40\n",
        "\n",
        "if fish_length >= 30 :\n",
        "    print(\"도미\")"
      ]
    },
    {
      "cell_type": "markdown",
      "source": [
        "# 생선 분류 문제"
      ],
      "metadata": {
        "id": "haGyKnES2rQb"
      }
    },
    {
      "cell_type": "markdown",
      "source": [
        "**> 도미 데이터 준비하기**\n"
      ],
      "metadata": {
        "id": "oHnKx4WI4QP7"
      }
    },
    {
      "cell_type": "code",
      "source": [
        "bream_length = [25.4, 26.3, 26.5, 29.0, 29.0, 29.7, 29.7, 30.0, 30.0, 30.7, 31.0, 31.0, 31.5, 32.0, 32.0, 32.0, 33.0, 33.0, 33.5, 33.5, 34.0, 34.0, 34.5, 35.0, 35.0, 35.0, 35.0, 36.0, 36.0, 37.0, 38.5, 38.5, 39.5, 41.0, 41.0]\n",
        "bream_weight = [242.0, 290.0, 340.0, 363.0, 430.0, 450.0, 500.0, 390.0, 450.0, 500.0, 475.0, 500.0, 500.0, 340.0, 600.0, 600.0, 700.0, 700.0, 610.0, 650.0, 575.0, 685.0, 620.0, 680.0, 700.0, 725.0, 720.0, 714.0, 850.0, 1000.0, 920.0, 955.0, 925.0, 975.0, 950.0]"
      ],
      "metadata": {
        "id": "uIBOdBBLx2lm"
      },
      "execution_count": null,
      "outputs": []
    },
    {
      "cell_type": "markdown",
      "source": [
        "샘플 데이터라고 함, 특징 => 한줄로 작성해야함"
      ],
      "metadata": {
        "id": "CAFLe_hQ4JHt"
      }
    },
    {
      "cell_type": "code",
      "source": [
        "import matplotlib.pyplot as plt\n",
        "\n",
        "plt.scatter(bream_length, bream_weight) # (x축, y축)\n",
        "plt.xlabel('length')\n",
        "plt.ylabel('weight')\n",
        "plt.show()"
      ],
      "metadata": {
        "id": "5UH5bmn12ocT"
      },
      "execution_count": null,
      "outputs": []
    },
    {
      "cell_type": "markdown",
      "source": [
        "**> 빙어 데이터 준비하기**"
      ],
      "metadata": {
        "id": "N7c1BCUL4ewm"
      }
    },
    {
      "cell_type": "code",
      "source": [
        "smelt_length = [9.8, 10.5, 10.6, 11.0, 11.2, 11.3, 11.8, 11.8, 12.0, 12.2, 12.4, 13.0, 14.3, 15.0]\n",
        "smelt_weight = [6.7, 7.5, 7.0, 9.7, 9.8, 8.7, 10.0, 9.9, 9.8, 12.2, 13.4, 12.2, 19.7, 19.9]"
      ],
      "metadata": {
        "id": "PnBvusUp3E-v"
      },
      "execution_count": null,
      "outputs": []
    },
    {
      "cell_type": "code",
      "source": [
        "plt.scatter(bream_length, bream_weight)\n",
        "plt.scatter(smelt_length, smelt_weight)\n",
        "plt.xlabel('length')\n",
        "plt.ylabel('weight')\n",
        "plt.show()"
      ],
      "metadata": {
        "id": "H7VcAYZq4rK3"
      },
      "execution_count": null,
      "outputs": []
    },
    {
      "cell_type": "markdown",
      "source": [
        "# 첫 번째 머신러닝 프로그램"
      ],
      "metadata": {
        "id": "w3pGPFby55V_"
      }
    },
    {
      "cell_type": "code",
      "source": [
        "length = bream_length + smelt_length\n",
        "print(length)\n",
        "\n",
        "weight = bream_weight + smelt_weight\n",
        "print(weight)"
      ],
      "metadata": {
        "id": "Oyuy8O9P49eL"
      },
      "execution_count": null,
      "outputs": []
    },
    {
      "cell_type": "code",
      "source": [
        "fish_data = [[l,w] for l, w in zip(length, weight)]\n",
        "\n",
        "print(fish_data)"
      ],
      "metadata": {
        "id": "0RjgLHzW6DqJ"
      },
      "execution_count": null,
      "outputs": []
    },
    {
      "cell_type": "code",
      "source": [
        "fish_target = [1]*35 + [0]*14\n",
        "\n",
        "print(fish_target)"
      ],
      "metadata": {
        "id": "TxShIoHk6NEW"
      },
      "execution_count": null,
      "outputs": []
    },
    {
      "cell_type": "markdown",
      "source": [
        "> K-최근접 이웃\n",
        "\n"
      ],
      "metadata": {
        "id": "6S6yRWji77KH"
      }
    },
    {
      "cell_type": "code",
      "source": [
        "from sklearn.neighbors import KNeighborsClassifier"
      ],
      "metadata": {
        "id": "2ae1Ztl164Lg"
      },
      "execution_count": null,
      "outputs": []
    },
    {
      "cell_type": "code",
      "source": [
        "kn = KNeighborsClassifier() # 머신러닝 모델"
      ],
      "metadata": {
        "id": "fkNMjX4k7HuH"
      },
      "execution_count": null,
      "outputs": []
    },
    {
      "cell_type": "code",
      "source": [
        "kn.fit(fish_data, fish_target) # 다른 class에서도 fit method 호출하면 됨, 사이킷런 모델을 훈련할 때 사용하는 메서드"
      ],
      "metadata": {
        "id": "U5Q-FF7A7Ki_"
      },
      "execution_count": null,
      "outputs": []
    },
    {
      "cell_type": "code",
      "source": [
        "kn.score(fish_data, fish_target) # score method로 확인 가능(정확도 출력) // 1.0 = 100% 로 다 맞춤 (39/10일 때는 98%임)"
      ],
      "metadata": {
        "id": "06dxBHXk7Nu_"
      },
      "execution_count": null,
      "outputs": []
    },
    {
      "cell_type": "markdown",
      "source": [
        "# k-최근접 이웃 알고리즘\n",
        "\n"
      ],
      "metadata": {
        "id": "KjmAETr-9SZ7"
      }
    },
    {
      "cell_type": "code",
      "source": [
        "plt.scatter(bream_length, bream_weight)\n",
        "plt.scatter(smelt_length, smelt_weight)\n",
        "plt.scatter(30, 600, marker='^') # 세모 '^'\n",
        "plt.xlabel('length')\n",
        "plt.ylabel('weight')\n",
        "plt.show()"
      ],
      "metadata": {
        "id": "aID1M_lq7TFe"
      },
      "execution_count": null,
      "outputs": []
    },
    {
      "cell_type": "code",
      "source": [
        "kn.predict([[30, 600]]) # 2차원 리스트 // 주변 점들의 class를 확인함 (기본 k=5)"
      ],
      "metadata": {
        "id": "XPfiC3ZG9Mlx"
      },
      "execution_count": null,
      "outputs": []
    },
    {
      "cell_type": "markdown",
      "source": [
        "numpy array"
      ],
      "metadata": {
        "id": "t_E9MX8R_L0I"
      }
    },
    {
      "cell_type": "code",
      "source": [
        "print(kn._fit_X) # X data"
      ],
      "metadata": {
        "id": "UZw6TCZa94nz"
      },
      "execution_count": null,
      "outputs": []
    },
    {
      "cell_type": "code",
      "source": [
        "print(kn._y) # y data"
      ],
      "metadata": {
        "id": "OdPVJ3XI97cD"
      },
      "execution_count": null,
      "outputs": []
    },
    {
      "cell_type": "code",
      "source": [
        "kn49 = KNeighborsClassifier(n_neighbors=49) # 기본인 5개 말고 49개"
      ],
      "metadata": {
        "id": "IQyBrLgk995j"
      },
      "execution_count": null,
      "outputs": []
    },
    {
      "cell_type": "code",
      "source": [
        "kn49.fit(fish_data, fish_target)\n",
        "kn49.score(fish_data, fish_target)"
      ],
      "metadata": {
        "id": "ZgxtCiSd-Cv3"
      },
      "execution_count": null,
      "outputs": []
    },
    {
      "cell_type": "code",
      "source": [
        "print(35/49)"
      ],
      "metadata": {
        "id": "D_ZoBnaH-MCB"
      },
      "execution_count": null,
      "outputs": []
    },
    {
      "cell_type": "markdown",
      "source": [
        "# 확인 문제"
      ],
      "metadata": {
        "id": "sF29Z4FGAFkV"
      }
    },
    {
      "cell_type": "code",
      "source": [
        "kn = KNeighborsClassifier()\n",
        "kn.fit(fish_data, fish_target)\n",
        "\n",
        "for n in range(5, 50):\n",
        "    # 최근접 이웃 개수 설정\n",
        "    kn.n_neighbors = n\n",
        "\n",
        "    # 점수 계산\n",
        "    score = kn.score(fish_data, fish_target)\n",
        "\n",
        "    # 100% 정확도에 미치지 못하는 이웃 개수 출력\n",
        "    if score < 1:\n",
        "        print(n, score)\n",
        "        break"
      ],
      "metadata": {
        "id": "-JiqTbq5BpKq"
      },
      "execution_count": null,
      "outputs": []
    },
    {
      "cell_type": "code",
      "source": [],
      "metadata": {
        "id": "wd2ypLFWCCeJ"
      },
      "execution_count": null,
      "outputs": []
    }
  ]
}