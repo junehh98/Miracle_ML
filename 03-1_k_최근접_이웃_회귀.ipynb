{
  "nbformat": 4,
  "nbformat_minor": 0,
  "metadata": {
    "colab": {
      "private_outputs": true,
      "provenance": [],
      "authorship_tag": "ABX9TyNLgvfX+F9FSPxCwqBRIUtq",
      "include_colab_link": true
    },
    "kernelspec": {
      "name": "python3",
      "display_name": "Python 3"
    },
    "language_info": {
      "name": "python"
    }
  },
  "cells": [
    {
      "cell_type": "markdown",
      "metadata": {
        "id": "view-in-github",
        "colab_type": "text"
      },
      "source": [
        "<a href=\"https://colab.research.google.com/github/jjeong122/LnML/blob/main/03_1_k_%EC%B5%9C%EA%B7%BC%EC%A0%91_%EC%9D%B4%EC%9B%83_%ED%9A%8C%EA%B7%80.ipynb\" target=\"_parent\"><img src=\"https://colab.research.google.com/assets/colab-badge.svg\" alt=\"Open In Colab\"/></a>"
      ]
    },
    {
      "cell_type": "markdown",
      "source": [
        "# 데이터 준비"
      ],
      "metadata": {
        "id": "g_eKZBzbiNbT"
      }
    },
    {
      "cell_type": "code",
      "execution_count": null,
      "metadata": {
        "id": "Man9R9GchOGf"
      },
      "outputs": [],
      "source": [
        "import numpy as np"
      ]
    },
    {
      "cell_type": "code",
      "source": [
        "perch_length = np.array(\n",
        "    [8.4, 13.7, 15.0, 16.2, 17.4, 18.0, 18.7, 19.0, 19.6, 20.0,\n",
        "     21.0, 21.0, 21.0, 21.3, 22.0, 22.0, 22.0, 22.0, 22.0, 22.5,\n",
        "     22.5, 22.7, 23.0, 23.5, 24.0, 24.0, 24.6, 25.0, 25.6, 26.5,\n",
        "     27.3, 27.5, 27.5, 27.5, 28.0, 28.7, 30.0, 32.8, 34.5, 35.0,\n",
        "     36.5, 36.0, 37.0, 37.0, 39.0, 39.0, 39.0, 40.0, 40.0, 40.0,\n",
        "     40.0, 42.0, 43.0, 43.0, 43.5, 44.0]\n",
        "     )\n",
        "perch_weight = np.array(\n",
        "    [5.9, 32.0, 40.0, 51.5, 70.0, 100.0, 78.0, 80.0, 85.0, 85.0,\n",
        "     110.0, 115.0, 125.0, 130.0, 120.0, 120.0, 130.0, 135.0, 110.0,\n",
        "     130.0, 150.0, 145.0, 150.0, 170.0, 225.0, 145.0, 188.0, 180.0,\n",
        "     197.0, 218.0, 300.0, 260.0, 265.0, 250.0, 250.0, 300.0, 320.0,\n",
        "     514.0, 556.0, 840.0, 685.0, 700.0, 700.0, 690.0, 900.0, 650.0,\n",
        "     820.0, 850.0, 900.0, 1015.0, 820.0, 1100.0, 1000.0, 1100.0,\n",
        "     1000.0, 1000.0]\n",
        "     )"
      ],
      "metadata": {
        "id": "ta1PMBXQiSIf"
      },
      "execution_count": null,
      "outputs": []
    },
    {
      "cell_type": "code",
      "source": [
        "import matplotlib.pyplot as plt"
      ],
      "metadata": {
        "id": "BD-ralbu0vux"
      },
      "execution_count": null,
      "outputs": []
    },
    {
      "cell_type": "code",
      "source": [
        "plt.scatter(perch_length, perch_weight)\n",
        "plt.xlabel('length')\n",
        "plt.ylabel('weight')\n",
        "plt.show()"
      ],
      "metadata": {
        "id": "vd2Zc0oE0zjY"
      },
      "execution_count": null,
      "outputs": []
    },
    {
      "cell_type": "markdown",
      "source": [
        "=> 길이가 길어지면 몸무게도 늘어날 것임"
      ],
      "metadata": {
        "id": "okbAXFNt1HSz"
      }
    },
    {
      "cell_type": "markdown",
      "source": [
        "# train, test split"
      ],
      "metadata": {
        "id": "pRzHDJQn0-Q7"
      }
    },
    {
      "cell_type": "code",
      "source": [
        "from sklearn.model_selection import train_test_split"
      ],
      "metadata": {
        "id": "gXW_x98B078E"
      },
      "execution_count": null,
      "outputs": []
    },
    {
      "cell_type": "code",
      "source": [
        "train_input, test_input, train_target, test_target = train_test_split(\n",
        "    perch_length, perch_weight, random_state=42)"
      ],
      "metadata": {
        "id": "eqXLi7_V1D86"
      },
      "execution_count": null,
      "outputs": []
    },
    {
      "cell_type": "markdown",
      "source": [
        "회귀분석에서는 클래스가 아닌 수치를 사용 따라서 stratify(계층화) X"
      ],
      "metadata": {
        "id": "AtDL1LrL1o_h"
      }
    },
    {
      "cell_type": "code",
      "source": [
        "print(len(perch_length), len(perch_weight))\n",
        "print(train_input.shape, test_input.shape)"
      ],
      "metadata": {
        "id": "C3OUdIGU1dpQ"
      },
      "execution_count": null,
      "outputs": []
    },
    {
      "cell_type": "markdown",
      "source": [
        "=> 2차원 배열을 넣으면 2차원 배열로 나옴\n",
        "\n",
        "(보통 sklearn의 모델들은 입력값이 2차원일 것이라 기대함, 행은 샘플, 열은 특성)"
      ],
      "metadata": {
        "id": "oIpkYyyG3Hjv"
      }
    },
    {
      "cell_type": "code",
      "source": [
        "train_input = train_input.reshape(-1,1)\n",
        "test_input = test_input.reshape(-1,1)"
      ],
      "metadata": {
        "id": "J-UyMAu9237I"
      },
      "execution_count": null,
      "outputs": []
    },
    {
      "cell_type": "code",
      "source": [
        "print(train_input.shape, test_input.shape)"
      ],
      "metadata": {
        "id": "Z7S20WuE3lye"
      },
      "execution_count": null,
      "outputs": []
    },
    {
      "cell_type": "markdown",
      "source": [
        "# 결정 계수 ($R^2$)"
      ],
      "metadata": {
        "id": "DdvOXIoj6qgp"
      }
    },
    {
      "cell_type": "code",
      "source": [
        "from sklearn.neighbors import KNeighborsRegressor\n",
        "knr = KNeighborsRegressor()\n",
        "knr.fit(train_input, train_target)\n",
        "\n",
        "knr.score(test_input, test_target)"
      ],
      "metadata": {
        "id": "5zvWGb6d3njT"
      },
      "execution_count": null,
      "outputs": []
    },
    {
      "cell_type": "markdown",
      "source": [
        "99%임 타겟을 잘 맞춤"
      ],
      "metadata": {
        "id": "9h8KryHKs77g"
      }
    },
    {
      "cell_type": "code",
      "source": [
        "from sklearn.metrics import mean_absolute_error # 평균 절대값 오차"
      ],
      "metadata": {
        "id": "w8CUWsFc7gBe"
      },
      "execution_count": null,
      "outputs": []
    },
    {
      "cell_type": "code",
      "source": [
        "# 테스트 세트에 대한 예측을 만듭니다\n",
        "test_prediction = knr.predict(test_input)\n",
        "\n",
        "mae = mean_absolute_error(test_target, test_prediction)\n",
        "print(mae)"
      ],
      "metadata": {
        "id": "4SbsXBhl72dS"
      },
      "execution_count": null,
      "outputs": []
    },
    {
      "cell_type": "markdown",
      "source": [
        "# 과대적합 vs 과소적합"
      ],
      "metadata": {
        "id": "URvOeadi8LVl"
      }
    },
    {
      "cell_type": "code",
      "source": [
        "print(knr.score(train_input, train_target))\n",
        "print(knr.score(test_input, test_target))"
      ],
      "metadata": {
        "id": "atyC36Fc8Ec7"
      },
      "execution_count": null,
      "outputs": []
    },
    {
      "cell_type": "markdown",
      "source": [
        "적절히 training이 되었다면 train의 예측값이 더 높아야 함\n",
        "\n",
        "지금은 과소적합 됨"
      ],
      "metadata": {
        "id": "T_W4ALwVr7oa"
      }
    },
    {
      "cell_type": "code",
      "source": [
        "# 이웃의 갯수를 3으로 설정합니다.\n",
        "knr.n_neightbors = 1 # 기본은 5\n",
        "# knr.n_neightbors = 3\n",
        "\n",
        "# 모델을 다시 훈련합니다.\n",
        "knr.fit(train_input, train_target)\n",
        "print(knr.score(train_input, train_target))"
      ],
      "metadata": {
        "id": "X9JUe72erCfE"
      },
      "execution_count": null,
      "outputs": []
    },
    {
      "cell_type": "code",
      "source": [
        "print(knr.score(test_input, test_target))"
      ],
      "metadata": {
        "id": "XALcElBTrP4J"
      },
      "execution_count": null,
      "outputs": []
    },
    {
      "cell_type": "markdown",
      "source": [
        "# 확인문제"
      ],
      "metadata": {
        "id": "UVpnqZf1rkDQ"
      }
    },
    {
      "cell_type": "code",
      "source": [
        "# k-최근접 이웃 회귀 객체를 만듭니다\n",
        "knr = KNeighborsRegressor()\n",
        "\n",
        "# 5에서 45까지 x 좌표를 만듭니다\n",
        "x = np.arange(5, 45).reshape(-1, 1)\n",
        "\n",
        "# n = 1, 5, 10일 때 예측 결과를 그래프로 그립니다.\n",
        "for n in [1, 5, 10]:\n",
        "    # 모델 훈련\n",
        "    knr.n_neighbors = n\n",
        "    knr.fit(train_input, train_target)\n",
        "    # 지정한 범위 x에 대한 예측 구하기\n",
        "    prediction = knr.predict(x)\n",
        "    # 훈련 세트와 예측 결과 그래프 그리기\n",
        "    plt.scatter(train_input, train_target)\n",
        "    plt.plot(x, prediction)\n",
        "    plt.title('n_neighbors = {}'.format(n))\n",
        "    plt.xlabel('length')\n",
        "    plt.ylabel('weight')\n",
        "    plt.show()"
      ],
      "metadata": {
        "id": "04QbmQesrjqG"
      },
      "execution_count": null,
      "outputs": []
    }
  ]
}